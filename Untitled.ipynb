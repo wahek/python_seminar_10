{
 "cells": [
  {
   "cell_type": "code",
   "execution_count": 1,
   "id": "273c8894",
   "metadata": {},
   "outputs": [
    {
     "ename": "SyntaxError",
     "evalue": "cannot assign to function call (932221076.py, line 1)",
     "output_type": "error",
     "traceback": [
      "\u001b[1;36m  File \u001b[1;32m\"C:\\Users\\wahek\\AppData\\Local\\Temp\\ipykernel_16044\\932221076.py\"\u001b[1;36m, line \u001b[1;32m1\u001b[0m\n\u001b[1;33m    f(x) = 5x^2 + 10x - 30\u001b[0m\n\u001b[1;37m    ^\u001b[0m\n\u001b[1;31mSyntaxError\u001b[0m\u001b[1;31m:\u001b[0m cannot assign to function call\n"
     ]
    }
   ],
   "source": [
    "f(x) = 5x^2 + 10x - 30"
   ]
  },
  {
   "cell_type": "code",
   "execution_count": 3,
   "id": "cfe3ae45",
   "metadata": {},
   "outputs": [],
   "source": [
    "import numpy as np\n",
    "import math\n",
    "import matplotlib.pyplot as plt"
   ]
  },
  {
   "cell_type": "code",
   "execution_count": 4,
   "id": "6b25e353",
   "metadata": {},
   "outputs": [],
   "source": [
    "a, b, c = 5, 10 , -30"
   ]
  },
  {
   "cell_type": "code",
   "execution_count": 5,
   "id": "85049008",
   "metadata": {},
   "outputs": [],
   "source": [
    "def f(x):\n",
    "    function = a*x**2 + b*x + c\n",
    "    return function"
   ]
  },
  {
   "cell_type": "code",
   "execution_count": 6,
   "id": "c6cc2d13",
   "metadata": {},
   "outputs": [],
   "source": [
    "def roots(a, b, c):\n",
    "    dscrt = b**2 - 4*a*c\n",
    "    if dscrt > 0:\n",
    "        x1 = (-b + math.sqrt(dscrt))/(2*a)\n",
    "        x2 = (-b - math.sqrt(dscrt))/(2*a)\n",
    "        return round(x1, 2), round(x2, 2)\n",
    "    if dscrt == 0:\n",
    "        x = -b / (2*a)\n",
    "        return x\n",
    "    else:\n",
    "        return None"
   ]
  },
  {
   "cell_type": "code",
   "execution_count": 7,
   "id": "47c596be",
   "metadata": {},
   "outputs": [
    {
     "name": "stdout",
     "output_type": "stream",
     "text": [
      "(1.65, -3.65)\n"
     ]
    }
   ],
   "source": [
    "print(roots(a, b, c))"
   ]
  },
  {
   "cell_type": "code",
   "execution_count": 8,
   "id": "69ead52b",
   "metadata": {},
   "outputs": [],
   "source": [
    "x = np.arange(-10, 10.01, 0.01)"
   ]
  },
  {
   "cell_type": "code",
   "execution_count": 9,
   "id": "54cf1dc3",
   "metadata": {},
   "outputs": [
    {
     "name": "stdout",
     "output_type": "stream",
     "text": [
      "[-10.    -9.99  -9.98 ...   9.98   9.99  10.  ]\n"
     ]
    }
   ],
   "source": [
    "print(x)"
   ]
  },
  {
   "cell_type": "code",
   "execution_count": 13,
   "id": "a096e831",
   "metadata": {},
   "outputs": [],
   "source": [
    "y_min = min(f(x))"
   ]
  },
  {
   "cell_type": "code",
   "execution_count": 15,
   "id": "053cf4c6",
   "metadata": {},
   "outputs": [],
   "source": [
    "x_min = roots(a, b, c - y_min)"
   ]
  },
  {
   "cell_type": "code",
   "execution_count": 25,
   "id": "40751c92",
   "metadata": {},
   "outputs": [],
   "source": [
    "def show_func():\n",
    "    plt.plot(x, f(x), 'r', lable = 'Функция f(x)')\n",
    "    plt.show()"
   ]
  },
  {
   "cell_type": "code",
   "execution_count": 26,
   "id": "dd9182bc",
   "metadata": {},
   "outputs": [
    {
     "data": {
      "text/plain": [
       "<function __main__.show_func()>"
      ]
     },
     "execution_count": 26,
     "metadata": {},
     "output_type": "execute_result"
    }
   ],
   "source": [
    "show_func"
   ]
  },
  {
   "cell_type": "code",
   "execution_count": null,
   "id": "cb59a855",
   "metadata": {},
   "outputs": [],
   "source": []
  }
 ],
 "metadata": {
  "kernelspec": {
   "display_name": "Python 3 (ipykernel)",
   "language": "python",
   "name": "python3"
  },
  "language_info": {
   "codemirror_mode": {
    "name": "ipython",
    "version": 3
   },
   "file_extension": ".py",
   "mimetype": "text/x-python",
   "name": "python",
   "nbconvert_exporter": "python",
   "pygments_lexer": "ipython3",
   "version": "3.9.13"
  }
 },
 "nbformat": 4,
 "nbformat_minor": 5
}
