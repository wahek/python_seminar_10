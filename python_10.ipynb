{
 "cells": [
  {
   "cell_type": "code",
   "execution_count": null,
   "id": "1362255d",
   "metadata": {},
   "outputs": [],
   "source": [
    "f(x) = -12x^4*sin(cos(x)) - 18x^3+5x^2 + 10x - 30\n",
    "\n",
    "Определить корни\n",
    "\n",
    "Найти интервалы, на которых функция возрастает\n",
    "\n",
    "Найти интервалы, на которых функция убывает\n",
    "\n",
    "Построить график\n",
    "\n",
    "Вычислить вершину\n",
    "\n",
    "Определить промежутки, на котором f > 0\n",
    "\n",
    "Определить промежутки, на котором f < 0"
   ]
  },
  {
   "cell_type": "code",
   "execution_count": 8,
   "id": "764c39eb",
   "metadata": {},
   "outputs": [],
   "source": [
    "import math\n",
    "import numpy as np\n",
    "import matplotlib.pyplot as plt"
   ]
  },
  {
   "cell_type": "code",
   "execution_count": 81,
   "id": "ec76e1fe",
   "metadata": {},
   "outputs": [],
   "source": [
    "limit = 10\n",
    "step = 0.01\n",
    "color = 'r'"
   ]
  },
  {
   "cell_type": "code",
   "execution_count": 82,
   "id": "e642dec2",
   "metadata": {},
   "outputs": [],
   "source": [
    "a, b, c, d, e = -12, -18, 5, 10, -30"
   ]
  },
  {
   "cell_type": "code",
   "execution_count": 83,
   "id": "3828bfde",
   "metadata": {},
   "outputs": [],
   "source": [
    "def f(x):\n",
    "    function = a*x**4 * np.sin(np.cos(x)) + b*x**3 + c*x**2 + d*x + e\n",
    "    return function"
   ]
  },
  {
   "cell_type": "code",
   "execution_count": 84,
   "id": "5aab21f9",
   "metadata": {},
   "outputs": [],
   "source": [
    "x = np.arange(-limit, limit + step, step)"
   ]
  },
  {
   "cell_type": "code",
   "execution_count": 85,
   "id": "411a39d6",
   "metadata": {},
   "outputs": [],
   "source": [
    "def show_func():\n",
    "    plt.plot(x, f(x), 'r', label = \"функкция f(x)\")\n",
    "    plt.show()"
   ]
  },
  {
   "cell_type": "code",
   "execution_count": 86,
   "id": "14afb61c",
   "metadata": {},
   "outputs": [
    {
     "data": {
      "image/png": "[encoded data removed]",
      "text/plain": [
       "<Figure size 640x480 with 1 Axes>"
      ]
     },
     "metadata": {},
     "output_type": "display_data"
    },
    {
     "name": "stdout",
     "output_type": "stream",
     "text": [
      "None\n"
     ]
    }
   ],
   "source": [
    "print(show_func())"
   ]
  },
  {
   "cell_type": "code",
   "execution_count": 87,
   "id": "6d4a77a5",
   "metadata": {},
   "outputs": [],
   "source": [
    "increase_high = True"
   ]
  },
  {
   "cell_type": "code",
   "execution_count": 88,
   "id": "eefa28d0",
   "metadata": {},
   "outputs": [],
   "source": [
    "x_change = [-limit]"
   ]
  },
  {
   "cell_type": "code",
   "execution_count": 96,
   "id": "df5b09b9",
   "metadata": {},
   "outputs": [],
   "source": [
    "for i in range(len(x)-1):\n",
    "    if increase_high:\n",
    "        if f(x[i]) > f(x[i+1]):\n",
    "            increase_high = False\n",
    "            x_change.append(x[i])\n",
    "    else:\n",
    "        if f(x[i]) < f(x[i+1]):\n",
    "            increase_high = True\n",
    "            x_change.append(x[i])"
   ]
  },
  {
   "cell_type": "code",
   "execution_count": 97,
   "id": "86313ba8",
   "metadata": {},
   "outputs": [],
   "source": [
    "x_change.append(limit)"
   ]
  },
  {
   "cell_type": "code",
   "execution_count": 98,
   "id": "f5d5c800",
   "metadata": {},
   "outputs": [],
   "source": [
    "def switch_color():\n",
    "    global color\n",
    "    if color =='r':\n",
    "        color ='b'\n",
    "    else:\n",
    "        color ='r'\n",
    "    return color"
   ]
  },
  {
   "cell_type": "code",
   "execution_count": 99,
   "id": "db3a97ff",
   "metadata": {},
   "outputs": [],
   "source": [
    "for i in range(len(x)-1):\n",
    "    if (f(x[i]) >  0 and f(x[i+1] < 0)) or (f(x[i]) >  0 and f(x[i+1] < 0)):\n",
    "        x_change.append(x[i])\n",
    "        \n"
   ]
  },
  {
   "cell_type": "code",
   "execution_count": 100,
   "id": "3e09840f",
   "metadata": {},
   "outputs": [
    {
     "ename": "TypeError",
     "evalue": "f() takes 1 positional argument but 2 were given",
     "output_type": "error",
     "traceback": [
      "\u001b[1;31m---------------------------------------------------------------------------\u001b[0m",
      "\u001b[1;31mTypeError\u001b[0m                                 Traceback (most recent call last)",
      "\u001b[1;32m~\\AppData\\Local\\Temp\\ipykernel_4420\\1410297794.py\u001b[0m in \u001b[0;36m<module>\u001b[1;34m\u001b[0m\n\u001b[0;32m      1\u001b[0m \u001b[1;32mfor\u001b[0m \u001b[0mi\u001b[0m \u001b[1;32min\u001b[0m \u001b[0mrange\u001b[0m\u001b[1;33m(\u001b[0m\u001b[0mlen\u001b[0m\u001b[1;33m(\u001b[0m\u001b[0mx_change\u001b[0m\u001b[1;33m)\u001b[0m \u001b[1;33m-\u001b[0m \u001b[1;36m1\u001b[0m\u001b[1;33m)\u001b[0m\u001b[1;33m:\u001b[0m\u001b[1;33m\u001b[0m\u001b[1;33m\u001b[0m\u001b[0m\n\u001b[0;32m      2\u001b[0m     \u001b[0mx_curent\u001b[0m \u001b[1;33m=\u001b[0m \u001b[0mnp\u001b[0m\u001b[1;33m.\u001b[0m\u001b[0marange\u001b[0m\u001b[1;33m(\u001b[0m\u001b[0mx_change\u001b[0m\u001b[1;33m[\u001b[0m\u001b[0mi\u001b[0m\u001b[1;33m]\u001b[0m\u001b[1;33m,\u001b[0m \u001b[0mx_change\u001b[0m\u001b[1;33m[\u001b[0m\u001b[0mi\u001b[0m\u001b[1;33m+\u001b[0m\u001b[1;36m1\u001b[0m\u001b[1;33m]\u001b[0m\u001b[1;33m,\u001b[0m \u001b[0mstep\u001b[0m\u001b[1;33m)\u001b[0m\u001b[1;33m\u001b[0m\u001b[1;33m\u001b[0m\u001b[0m\n\u001b[1;32m----> 3\u001b[1;33m     \u001b[0mplt\u001b[0m\u001b[1;33m.\u001b[0m\u001b[0mplot\u001b[0m\u001b[1;33m(\u001b[0m\u001b[0mx_change\u001b[0m\u001b[1;33m[\u001b[0m\u001b[0mi\u001b[0m\u001b[1;33m]\u001b[0m\u001b[1;33m,\u001b[0m \u001b[0mf\u001b[0m\u001b[1;33m(\u001b[0m\u001b[0mx_change\u001b[0m\u001b[1;33m[\u001b[0m\u001b[0mi\u001b[0m\u001b[1;33m]\u001b[0m\u001b[1;33m,\u001b[0m \u001b[0mswitch_color\u001b[0m\u001b[1;33m)\u001b[0m\u001b[1;33m)\u001b[0m\u001b[1;33m\u001b[0m\u001b[1;33m\u001b[0m\u001b[0m\n\u001b[0m\u001b[0;32m      4\u001b[0m     \u001b[0mplt\u001b[0m\u001b[1;33m.\u001b[0m\u001b[0mplot\u001b[0m\u001b[1;33m(\u001b[0m\u001b[0mx_curent\u001b[0m\u001b[1;33m,\u001b[0m \u001b[0mf\u001b[0m\u001b[1;33m(\u001b[0m\u001b[0mx_curent\u001b[0m\u001b[1;33m)\u001b[0m\u001b[1;33m,\u001b[0m \u001b[0mswitch_color\u001b[0m\u001b[1;33m(\u001b[0m\u001b[1;33m)\u001b[0m\u001b[1;33m)\u001b[0m\u001b[1;33m\u001b[0m\u001b[1;33m\u001b[0m\u001b[0m\n",
      "\u001b[1;31mTypeError\u001b[0m: f() takes 1 positional argument but 2 were given"
     ]
    }
   ],
   "source": [
    "for i in range(len(x_change) - 1):\n",
    "    x_curent = np.arange(x_change[i], x_change[i+1], step)\n",
    "    plt.plot(x_change[i], f(x_change[i], switch_color))\n",
    "    plt.plot(x_curent, f(x_curent), switch_color())"
   ]
  },
  {
   "cell_type": "code",
   "execution_count": null,
   "id": "e2026f8e",
   "metadata": {},
   "outputs": [],
   "source": []
  }
 ],
 "metadata": {
  "kernelspec": {
   "display_name": "Python 3 (ipykernel)",
   "language": "python",
   "name": "python3"
  },
  "language_info": {
   "codemirror_mode": {
    "name": "ipython",
    "version": 3
   },
   "file_extension": ".py",
   "mimetype": "text/x-python",
   "name": "python",
   "nbconvert_exporter": "python",
   "pygments_lexer": "ipython3",
   "version": "3.9.13"
  }
 },
 "nbformat": 4,
 "nbformat_minor": 5
}
